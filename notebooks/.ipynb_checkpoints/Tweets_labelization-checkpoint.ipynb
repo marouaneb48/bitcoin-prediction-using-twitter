{
 "cells": [
  {
   "cell_type": "markdown",
   "id": "8977d126",
   "metadata": {},
   "source": [
    "# Import of librariries and trained model"
   ]
  },
  {
   "cell_type": "code",
   "execution_count": 10,
   "id": "50793ff5",
   "metadata": {},
   "outputs": [],
   "source": [
    "from tqdm import tqdm\n",
    "import sys\n",
    "import os\n",
    "import time\n",
    "#sys.path.insert(0,'./Bert')\n",
    "sys.path.append('/Users/anouaroussalah/Desktop/3A/SM10/Deep Learning/bitcoin-prediction-using-twitter/Bert')"
   ]
  },
  {
   "cell_type": "code",
   "execution_count": 2,
   "id": "145f3b92",
   "metadata": {},
   "outputs": [],
   "source": [
    "from utils import *\n",
    "from bert_1layer import *\n",
    "\n",
    "import pandas as pd "
   ]
  },
  {
   "cell_type": "code",
   "execution_count": 3,
   "id": "52b6ef56",
   "metadata": {},
   "outputs": [
    {
     "name": "stderr",
     "output_type": "stream",
     "text": [
      "t_total value of -1 results in schedule not being applied\n"
     ]
    }
   ],
   "source": [
    "start = time.time()\n",
    "end = time.time()\n",
    "model = bert_1layer(load_path='/Users/anouaroussalah/Desktop/3A/SM10/Deep Learning/bitcoin-prediction-using-twitter/Bert/trained_model')"
   ]
  },
  {
   "cell_type": "markdown",
   "id": "87610d01",
   "metadata": {},
   "source": [
    "# Test of prediction"
   ]
  },
  {
   "cell_type": "code",
   "execution_count": 4,
   "id": "e5a7915f",
   "metadata": {},
   "outputs": [
    {
     "name": "stdout",
     "output_type": "stream",
     "text": [
      "Time to predict label : 3 s\n"
     ]
    },
    {
     "data": {
      "text/html": [
       "<div>\n",
       "<style scoped>\n",
       "    .dataframe tbody tr th:only-of-type {\n",
       "        vertical-align: middle;\n",
       "    }\n",
       "\n",
       "    .dataframe tbody tr th {\n",
       "        vertical-align: top;\n",
       "    }\n",
       "\n",
       "    .dataframe thead th {\n",
       "        text-align: right;\n",
       "    }\n",
       "</style>\n",
       "<table border=\"1\" class=\"dataframe\">\n",
       "  <thead>\n",
       "    <tr style=\"text-align: right;\">\n",
       "      <th></th>\n",
       "      <th>sentence</th>\n",
       "      <th>label</th>\n",
       "      <th>predicted label</th>\n",
       "    </tr>\n",
       "  </thead>\n",
       "  <tbody>\n",
       "    <tr>\n",
       "      <th>0</th>\n",
       "      <td>Absolument. Bitcoin will soon be back on top. ...</td>\n",
       "      <td>2</td>\n",
       "      <td>2</td>\n",
       "    </tr>\n",
       "    <tr>\n",
       "      <th>1</th>\n",
       "      <td>i often wonder if this bullish news with quote...</td>\n",
       "      <td>0</td>\n",
       "      <td>0</td>\n",
       "    </tr>\n",
       "    <tr>\n",
       "      <th>2</th>\n",
       "      <td>Bitcoin is a cryptocurrency, which was created...</td>\n",
       "      <td>1</td>\n",
       "      <td>1</td>\n",
       "    </tr>\n",
       "  </tbody>\n",
       "</table>\n",
       "</div>"
      ],
      "text/plain": [
       "                                            sentence  label  predicted label\n",
       "0  Absolument. Bitcoin will soon be back on top. ...      2                2\n",
       "1  i often wonder if this bullish news with quote...      0                0\n",
       "2  Bitcoin is a cryptocurrency, which was created...      1                1"
      ]
     },
     "execution_count": 4,
     "metadata": {},
     "output_type": "execute_result"
    }
   ],
   "source": [
    "sentence  = ['Absolument. Bitcoin will soon be back on top. It will reach 100000 $ by the end  of 2025',\n",
    "            \"i often wonder if this bullish news with quotes are fake since they only pop up in bitcoin related media. there are 15% of americans owning cryptocurrency. it is relevant. why aren't they talk about in in serious media?true label is\",\n",
    "            'Bitcoin is a cryptocurrency, which was created by Satoshi Nakamoto in 2008. It uses the blockchain technology']\n",
    "label = [2,0,1]\n",
    "\n",
    "start = time.time()\n",
    "df_test = pd.DataFrame(data = {'sentence':sentence, 'label':label})\n",
    "df_test['predicted label']= model.predict(df_test)\n",
    "end = time.time()\n",
    "print(f\"Time to predict label : {round(end-start)} s\")\n",
    "df_test"
   ]
  },
  {
   "cell_type": "markdown",
   "id": "8701ff9a",
   "metadata": {},
   "source": [
    "# Let's label our dataset of tweets"
   ]
  },
  {
   "cell_type": "code",
   "execution_count": 28,
   "id": "35a80b65",
   "metadata": {},
   "outputs": [],
   "source": [
    "\n",
    "df = pd.read_csv(\"/Users/anouaroussalah/Desktop/3A/SM10/Deep Learning/Project/tweets_processed_2.csv\",  lineterminator=\"\\n\", nrows=100)\n"
   ]
  },
  {
   "cell_type": "code",
   "execution_count": 31,
   "id": "12745b0e",
   "metadata": {},
   "outputs": [
    {
     "data": {
      "text/html": [
       "<div>\n",
       "<style scoped>\n",
       "    .dataframe tbody tr th:only-of-type {\n",
       "        vertical-align: middle;\n",
       "    }\n",
       "\n",
       "    .dataframe tbody tr th {\n",
       "        vertical-align: top;\n",
       "    }\n",
       "\n",
       "    .dataframe thead th {\n",
       "        text-align: right;\n",
       "    }\n",
       "</style>\n",
       "<table border=\"1\" class=\"dataframe\">\n",
       "  <thead>\n",
       "    <tr style=\"text-align: right;\">\n",
       "      <th></th>\n",
       "      <th>user_name</th>\n",
       "      <th>user_created</th>\n",
       "      <th>user_followers</th>\n",
       "      <th>user_friends</th>\n",
       "      <th>user_favourites</th>\n",
       "      <th>user_verified</th>\n",
       "      <th>date</th>\n",
       "      <th>haha</th>\n",
       "    </tr>\n",
       "  </thead>\n",
       "  <tbody>\n",
       "    <tr>\n",
       "      <th>0</th>\n",
       "      <td>Iconic Holding</td>\n",
       "      <td>2021-01-05 13:22:24</td>\n",
       "      <td>301.0</td>\n",
       "      <td>1075.0</td>\n",
       "      <td>361.0</td>\n",
       "      <td>False</td>\n",
       "      <td>2021-02-05 10:52:04</td>\n",
       "      <td>2   debunking 9 bitcoin myths by       cryptoc...</td>\n",
       "    </tr>\n",
       "    <tr>\n",
       "      <th>1</th>\n",
       "      <td>Iconic Holding</td>\n",
       "      <td>2021-01-05 13:22:24</td>\n",
       "      <td>301.0</td>\n",
       "      <td>1075.0</td>\n",
       "      <td>361.0</td>\n",
       "      <td>False</td>\n",
       "      <td>2021-02-05 10:52:04</td>\n",
       "      <td>weekend read   keen to learn about crypto as...</td>\n",
       "    </tr>\n",
       "    <tr>\n",
       "      <th>2</th>\n",
       "      <td>Iconic Holding</td>\n",
       "      <td>2021-01-05 13:22:24</td>\n",
       "      <td>301.0</td>\n",
       "      <td>1075.0</td>\n",
       "      <td>361.0</td>\n",
       "      <td>False</td>\n",
       "      <td>2021-02-05 10:52:06</td>\n",
       "      <td>4   bloomberg lp cryptooutlook 2021 with    cr...</td>\n",
       "    </tr>\n",
       "    <tr>\n",
       "      <th>3</th>\n",
       "      <td>Iconic Holding</td>\n",
       "      <td>2021-01-05 13:22:24</td>\n",
       "      <td>301.0</td>\n",
       "      <td>1075.0</td>\n",
       "      <td>361.0</td>\n",
       "      <td>False</td>\n",
       "      <td>2021-02-05 10:52:07</td>\n",
       "      <td>5   blockchain 50 2021 by   ,     cryptocurren...</td>\n",
       "    </tr>\n",
       "    <tr>\n",
       "      <th>4</th>\n",
       "      <td>Nick Doevendans</td>\n",
       "      <td>2020-06-12 16:50:07</td>\n",
       "      <td>37.0</td>\n",
       "      <td>123.0</td>\n",
       "      <td>410.0</td>\n",
       "      <td>False</td>\n",
       "      <td>2021-02-05 10:52:26</td>\n",
       "      <td>reddcoin rdd  to the moon altcoin turnreddcoin...</td>\n",
       "    </tr>\n",
       "  </tbody>\n",
       "</table>\n",
       "</div>"
      ],
      "text/plain": [
       "         user_name         user_created  user_followers  user_friends  \\\n",
       "0   Iconic Holding  2021-01-05 13:22:24           301.0        1075.0   \n",
       "1   Iconic Holding  2021-01-05 13:22:24           301.0        1075.0   \n",
       "2   Iconic Holding  2021-01-05 13:22:24           301.0        1075.0   \n",
       "3   Iconic Holding  2021-01-05 13:22:24           301.0        1075.0   \n",
       "4  Nick Doevendans  2020-06-12 16:50:07            37.0         123.0   \n",
       "\n",
       "   user_favourites  user_verified                 date  \\\n",
       "0            361.0          False  2021-02-05 10:52:04   \n",
       "1            361.0          False  2021-02-05 10:52:04   \n",
       "2            361.0          False  2021-02-05 10:52:06   \n",
       "3            361.0          False  2021-02-05 10:52:07   \n",
       "4            410.0          False  2021-02-05 10:52:26   \n",
       "\n",
       "                                                haha  \n",
       "0  2   debunking 9 bitcoin myths by       cryptoc...  \n",
       "1    weekend read   keen to learn about crypto as...  \n",
       "2  4   bloomberg lp cryptooutlook 2021 with    cr...  \n",
       "3  5   blockchain 50 2021 by   ,     cryptocurren...  \n",
       "4  reddcoin rdd  to the moon altcoin turnreddcoin...  "
      ]
     },
     "execution_count": 31,
     "metadata": {},
     "output_type": "execute_result"
    }
   ],
   "source": [
    "df.columns = ['user_name', 'user_created', 'user_followers', 'user_friends',\n",
    "       'user_favourites', 'user_verified', 'date', 'haha']\n",
    "df.head(5)"
   ]
  },
  {
   "cell_type": "code",
   "execution_count": 32,
   "id": "7009900b",
   "metadata": {},
   "outputs": [],
   "source": [
    "def labelize_dataset(path_input, path_output, nrows):\n",
    "    \n",
    "    start = time.time()\n",
    "    \n",
    "    for k in tqdm(range(10)):\n",
    "        \n",
    "        start_loop = time.time()\n",
    "        \n",
    "        df = pd.read_csv(path, lineterminator=\"\\n\", skiprows=k*nrows , nrows=(k+1)*nrows)\n",
    "        \n",
    "        df.columns = ['user_name', 'user_created', 'user_followers', 'user_friends', 'user_favourites', 'user_verified', 'date', 'sentence']\n",
    "        \n",
    "        df['sentence'] = df['sentence'].astype(\"string\")\n",
    "        df = df.dropna(subset=['sentence'])\n",
    "        \n",
    "        # Make predictions\n",
    "        df['predicted label']= model.predict(df)\n",
    "        \n",
    "        if os.path.exists(path_output):\n",
    "            \n",
    "            df.to_csv(path_output, index=False, header=True)\n",
    "            \n",
    "        else:\n",
    "            \n",
    "            df.to_csv(path_output, mode='a', index=False, header=False)\n",
    "            \n",
    "        end_loop = time.time()\n",
    "        print(f\"batch done in {round(end_loop-start_loop)} s\")\n",
    "        \n",
    "    end = time.time()\n",
    "    \n",
    "    print(f\"Job done succesfully in {round(end-start)} s\")\n",
    "    return None"
   ]
  },
  {
   "cell_type": "code",
   "execution_count": 33,
   "id": "65775183",
   "metadata": {},
   "outputs": [
    {
     "name": "stderr",
     "output_type": "stream",
     "text": [
      " 10%|████▍                                       | 1/10 [00:17<02:38, 17.62s/it]"
     ]
    },
    {
     "name": "stdout",
     "output_type": "stream",
     "text": [
      "batch done in 18 s\n"
     ]
    },
    {
     "name": "stderr",
     "output_type": "stream",
     "text": [
      "\r",
      " 20%|████████▊                                   | 2/10 [00:47<03:20, 25.00s/it]"
     ]
    },
    {
     "name": "stdout",
     "output_type": "stream",
     "text": [
      "batch done in 30 s\n"
     ]
    },
    {
     "name": "stderr",
     "output_type": "stream",
     "text": [
      "\r",
      " 30%|█████████████▏                              | 3/10 [01:34<04:04, 34.99s/it]"
     ]
    },
    {
     "name": "stdout",
     "output_type": "stream",
     "text": [
      "batch done in 47 s\n"
     ]
    },
    {
     "name": "stderr",
     "output_type": "stream",
     "text": [
      "\r",
      " 40%|█████████████████▌                          | 4/10 [02:38<04:38, 46.44s/it]"
     ]
    },
    {
     "name": "stdout",
     "output_type": "stream",
     "text": [
      "batch done in 64 s\n"
     ]
    },
    {
     "name": "stderr",
     "output_type": "stream",
     "text": [
      "\r",
      " 50%|██████████████████████                      | 5/10 [03:58<04:52, 58.44s/it]"
     ]
    },
    {
     "name": "stdout",
     "output_type": "stream",
     "text": [
      "batch done in 80 s\n"
     ]
    },
    {
     "name": "stderr",
     "output_type": "stream",
     "text": [
      "\r",
      " 60%|██████████████████████████▍                 | 6/10 [05:40<04:53, 73.46s/it]"
     ]
    },
    {
     "name": "stdout",
     "output_type": "stream",
     "text": [
      "batch done in 103 s\n"
     ]
    },
    {
     "name": "stderr",
     "output_type": "stream",
     "text": [
      "\r",
      " 70%|██████████████████████████████▊             | 7/10 [07:46<04:31, 90.44s/it]"
     ]
    },
    {
     "name": "stdout",
     "output_type": "stream",
     "text": [
      "batch done in 125 s\n"
     ]
    },
    {
     "name": "stderr",
     "output_type": "stream",
     "text": [
      "\r",
      " 80%|██████████████████████████████████▍        | 8/10 [10:08<03:33, 106.92s/it]"
     ]
    },
    {
     "name": "stdout",
     "output_type": "stream",
     "text": [
      "batch done in 142 s\n"
     ]
    },
    {
     "name": "stderr",
     "output_type": "stream",
     "text": [
      "\r",
      " 90%|██████████████████████████████████████▋    | 9/10 [12:50<02:04, 124.26s/it]"
     ]
    },
    {
     "name": "stdout",
     "output_type": "stream",
     "text": [
      "batch done in 162 s\n"
     ]
    },
    {
     "name": "stderr",
     "output_type": "stream",
     "text": [
      "100%|███████████████████████████████████████████| 10/10 [15:45<00:00, 94.53s/it]"
     ]
    },
    {
     "name": "stdout",
     "output_type": "stream",
     "text": [
      "batch done in 174 s\n",
      "Job done succesfully in 945 s\n"
     ]
    },
    {
     "name": "stderr",
     "output_type": "stream",
     "text": [
      "\n"
     ]
    }
   ],
   "source": [
    "path_input = \"/Users/anouaroussalah/Desktop/3A/SM10/Deep Learning/Project/tweets_processed_2.csv\"\n",
    "path_output = \"/Users/anouaroussalah/Desktop/3A/SM10/Deep Learning/Project/tweets_labelized.csv\"\n",
    "labelize_dataset(path_input, path_output, nrows=100)"
   ]
  },
  {
   "cell_type": "code",
   "execution_count": null,
   "id": "62ec52af",
   "metadata": {},
   "outputs": [],
   "source": []
  }
 ],
 "metadata": {
  "kernelspec": {
   "display_name": "Python 3 (ipykernel)",
   "language": "python",
   "name": "python3"
  },
  "language_info": {
   "codemirror_mode": {
    "name": "ipython",
    "version": 3
   },
   "file_extension": ".py",
   "mimetype": "text/x-python",
   "name": "python",
   "nbconvert_exporter": "python",
   "pygments_lexer": "ipython3",
   "version": "3.9.13"
  }
 },
 "nbformat": 4,
 "nbformat_minor": 5
}

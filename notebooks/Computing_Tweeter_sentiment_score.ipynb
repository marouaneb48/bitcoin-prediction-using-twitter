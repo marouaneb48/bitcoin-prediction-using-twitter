{
 "cells": [
  {
   "cell_type": "markdown",
   "id": "2d287584",
   "metadata": {},
   "source": [
    "# Let's compute a daily basis score of twiiter sentiment analysis"
   ]
  },
  {
   "cell_type": "code",
   "execution_count": null,
   "id": "e9e89ddd",
   "metadata": {},
   "outputs": [],
   "source": [
    "import sys\n",
    "import os\n",
    "import time\n",
    "\n",
    "import matplotlib.pyplot as plt\n",
    "import pandas as pd \n",
    "import numpy as np\n",
    "import os\n",
    "import seaborn as sns \n",
    "\n",
    "from wordcloud import WordCloud\n",
    "import re\n",
    "import nltk \n",
    "from nltk.corpus import stopwords\n",
    "from nltk.stem.porter import *\n",
    "from tqdm import tqdm\n",
    "#nltk.download('stopwords')\n",
    "\n",
    "from IPython.display import display, HTML"
   ]
  },
  {
   "cell_type": "code",
   "execution_count": 2,
   "id": "46dbbe59",
   "metadata": {},
   "outputs": [],
   "source": [
    "df = pd.read_csv(\"/Users/anouaroussalah/Desktop/3A/SM10/Deep Learning/Project/tweets_labelized.csv\")"
   ]
  },
  {
   "cell_type": "code",
   "execution_count": 3,
   "id": "ab46ed64",
   "metadata": {},
   "outputs": [],
   "source": [
    "def compute_daily_score(df):\n",
    "    \"\"\"\n",
    "  Compute daily basis with predicted labels\n",
    "  \"\"\"\n",
    "  # Add date column\n",
    "    df[\"day_date\"] = pd.to_datetime(df.date).dt.date\n",
    "\n",
    "  # Add score columns\n",
    "    df[\"score_positif\"] = df[\"predicted label\"].apply(lambda label: 1 if label==2 else 0)\n",
    "    df[\"score_neutre\"] = df[\"predicted label\"].apply(lambda label: 1 if label==1 else 0)\n",
    "    df[\"score_negatif\"] = df[\"predicted label\"].apply(lambda label: 1 if label==0 else 0)\n",
    "\n",
    "  # Weight score with number of followers\n",
    "    df[\"weighted_positive_score\"] = df.user_followers * df.score_positif\n",
    "    df[\"weighted_neutral_score\"] = df.user_followers * df.score_neutre\n",
    "    df[\"weighted_negative_score\"] = df.user_followers * df.score_negatif\n",
    "\n",
    "  # Aggrgate data on a daily basis\n",
    "    df_aggregated = df[[\"day_date\", \"weighted_positive_score\", \"weighted_neutral_score\", \"weighted_negative_score\"]].groupby(\"day_date\").sum()\n",
    "\n",
    "  # Compute total Score\n",
    "    df_aggregated[\"total\"] = df_aggregated.weighted_positive_score + df_aggregated.weighted_neutral_score + df_aggregated.weighted_negative_score\n",
    "\n",
    "  # Have percentages for scores \n",
    "    df_aggregated.weighted_positive_score = df_aggregated.weighted_positive_score / df_aggregated.total\n",
    "    df_aggregated.weighted_neutral_score = df_aggregated.weighted_neutral_score / df_aggregated.total\n",
    "    df_aggregated.weighted_negative_score = df_aggregated.weighted_negative_score / df_aggregated.total\n",
    "\n",
    "    return df_aggregated"
   ]
  },
  {
   "cell_type": "code",
   "execution_count": 4,
   "id": "5f47a2a9",
   "metadata": {},
   "outputs": [],
   "source": [
    "df_test = compute_daily_score(df)"
   ]
  },
  {
   "cell_type": "code",
   "execution_count": 6,
   "id": "e02c04c2",
   "metadata": {},
   "outputs": [
    {
     "data": {
      "text/html": [
       "<div>\n",
       "<style scoped>\n",
       "    .dataframe tbody tr th:only-of-type {\n",
       "        vertical-align: middle;\n",
       "    }\n",
       "\n",
       "    .dataframe tbody tr th {\n",
       "        vertical-align: top;\n",
       "    }\n",
       "\n",
       "    .dataframe thead th {\n",
       "        text-align: right;\n",
       "    }\n",
       "</style>\n",
       "<table border=\"1\" class=\"dataframe\">\n",
       "  <thead>\n",
       "    <tr style=\"text-align: right;\">\n",
       "      <th></th>\n",
       "      <th>weighted_positive_score</th>\n",
       "      <th>weighted_neutral_score</th>\n",
       "      <th>weighted_negative_score</th>\n",
       "      <th>total</th>\n",
       "    </tr>\n",
       "    <tr>\n",
       "      <th>day_date</th>\n",
       "      <th></th>\n",
       "      <th></th>\n",
       "      <th></th>\n",
       "      <th></th>\n",
       "    </tr>\n",
       "  </thead>\n",
       "  <tbody>\n",
       "    <tr>\n",
       "      <th>2021-02-05</th>\n",
       "      <td>0.337062</td>\n",
       "      <td>0.599051</td>\n",
       "      <td>0.063887</td>\n",
       "      <td>317075.0</td>\n",
       "    </tr>\n",
       "    <tr>\n",
       "      <th>2021-02-06</th>\n",
       "      <td>0.327105</td>\n",
       "      <td>0.567843</td>\n",
       "      <td>0.105053</td>\n",
       "      <td>6305741.0</td>\n",
       "    </tr>\n",
       "  </tbody>\n",
       "</table>\n",
       "</div>"
      ],
      "text/plain": [
       "            weighted_positive_score  weighted_neutral_score  \\\n",
       "day_date                                                      \n",
       "2021-02-05                 0.337062                0.599051   \n",
       "2021-02-06                 0.327105                0.567843   \n",
       "\n",
       "            weighted_negative_score      total  \n",
       "day_date                                        \n",
       "2021-02-05                 0.063887   317075.0  \n",
       "2021-02-06                 0.105053  6305741.0  "
      ]
     },
     "execution_count": 6,
     "metadata": {},
     "output_type": "execute_result"
    }
   ],
   "source": [
    "df_test.head(2)"
   ]
  },
  {
   "cell_type": "code",
   "execution_count": null,
   "id": "c2e79cd6",
   "metadata": {},
   "outputs": [],
   "source": []
  }
 ],
 "metadata": {
  "kernelspec": {
   "display_name": "Python 3 (ipykernel)",
   "language": "python",
   "name": "python3"
  },
  "language_info": {
   "codemirror_mode": {
    "name": "ipython",
    "version": 3
   },
   "file_extension": ".py",
   "mimetype": "text/x-python",
   "name": "python",
   "nbconvert_exporter": "python",
   "pygments_lexer": "ipython3",
   "version": "3.9.13"
  }
 },
 "nbformat": 4,
 "nbformat_minor": 5
}

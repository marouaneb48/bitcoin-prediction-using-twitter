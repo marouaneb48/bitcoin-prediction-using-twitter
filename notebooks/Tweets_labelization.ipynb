{
 "cells": [
  {
   "cell_type": "markdown",
   "id": "8977d126",
   "metadata": {},
   "source": [
    "# Import of librariries and trained model"
   ]
  },
  {
   "cell_type": "code",
   "execution_count": 1,
   "id": "50793ff5",
   "metadata": {},
   "outputs": [],
   "source": [
    "from tqdm import tqdm\n",
    "import sys\n",
    "import os\n",
    "import time\n",
    "#sys.path.insert(0,'./Bert')\n",
    "sys.path.append('/Users/anouaroussalah/Desktop/3A/SM10/Deep Learning/bitcoin-prediction-using-twitter/Bert')"
   ]
  },
  {
   "cell_type": "code",
   "execution_count": 2,
   "id": "145f3b92",
   "metadata": {},
   "outputs": [],
   "source": [
    "from utils import *\n",
    "from bert_1layer import *\n",
    "\n",
    "import pandas as pd "
   ]
  },
  {
   "cell_type": "code",
   "execution_count": 4,
   "id": "52b6ef56",
   "metadata": {},
   "outputs": [
    {
     "name": "stderr",
     "output_type": "stream",
     "text": [
      "t_total value of -1 results in schedule not being applied\n"
     ]
    },
    {
     "name": "stdout",
     "output_type": "stream",
     "text": [
      "Time to import model 0 s\n"
     ]
    }
   ],
   "source": [
    "start = time.time()\n",
    "model = bert_1layer(load_path='/Users/anouaroussalah/Desktop/3A/SM10/Deep Learning/bitcoin-prediction-using-twitter/Bert/trained_model')\n",
    "end = time.time()\n",
    "print(f\"Time to import model {round(end-start)} s\")"
   ]
  },
  {
   "cell_type": "markdown",
   "id": "87610d01",
   "metadata": {},
   "source": [
    "# Test of prediction"
   ]
  },
  {
   "cell_type": "code",
   "execution_count": 5,
   "id": "e5a7915f",
   "metadata": {},
   "outputs": [
    {
     "name": "stdout",
     "output_type": "stream",
     "text": [
      "Time to predict label : 2 s\n"
     ]
    },
    {
     "data": {
      "text/html": [
       "<div>\n",
       "<style scoped>\n",
       "    .dataframe tbody tr th:only-of-type {\n",
       "        vertical-align: middle;\n",
       "    }\n",
       "\n",
       "    .dataframe tbody tr th {\n",
       "        vertical-align: top;\n",
       "    }\n",
       "\n",
       "    .dataframe thead th {\n",
       "        text-align: right;\n",
       "    }\n",
       "</style>\n",
       "<table border=\"1\" class=\"dataframe\">\n",
       "  <thead>\n",
       "    <tr style=\"text-align: right;\">\n",
       "      <th></th>\n",
       "      <th>sentence</th>\n",
       "      <th>label</th>\n",
       "      <th>predicted label</th>\n",
       "    </tr>\n",
       "  </thead>\n",
       "  <tbody>\n",
       "    <tr>\n",
       "      <th>0</th>\n",
       "      <td>Absolument. Bitcoin will soon be back on top. ...</td>\n",
       "      <td>2</td>\n",
       "      <td>2</td>\n",
       "    </tr>\n",
       "    <tr>\n",
       "      <th>1</th>\n",
       "      <td>i often wonder if this bullish news with quote...</td>\n",
       "      <td>0</td>\n",
       "      <td>0</td>\n",
       "    </tr>\n",
       "    <tr>\n",
       "      <th>2</th>\n",
       "      <td>Bitcoin is a cryptocurrency, which was created...</td>\n",
       "      <td>1</td>\n",
       "      <td>1</td>\n",
       "    </tr>\n",
       "  </tbody>\n",
       "</table>\n",
       "</div>"
      ],
      "text/plain": [
       "                                            sentence  label  predicted label\n",
       "0  Absolument. Bitcoin will soon be back on top. ...      2                2\n",
       "1  i often wonder if this bullish news with quote...      0                0\n",
       "2  Bitcoin is a cryptocurrency, which was created...      1                1"
      ]
     },
     "execution_count": 5,
     "metadata": {},
     "output_type": "execute_result"
    }
   ],
   "source": [
    "sentence  = ['Absolument. Bitcoin will soon be back on top. It will reach 100000 $ by the end  of 2025',\n",
    "            \"i often wonder if this bullish news with quotes are fake since they only pop up in bitcoin related media. there are 15% of americans owning cryptocurrency. it is relevant. why aren't they talk about in in serious media?true label is\",\n",
    "            'Bitcoin is a cryptocurrency, which was created by Satoshi Nakamoto in 2008. It uses the blockchain technology']\n",
    "label = [2,0,1]\n",
    "\n",
    "start = time.time()\n",
    "df_test = pd.DataFrame(data = {'sentence':sentence, 'label':label})\n",
    "df_test['predicted label']= model.predict(df_test)\n",
    "end = time.time()\n",
    "print(f\"Time to predict label : {round(end-start)} s\")\n",
    "df_test"
   ]
  },
  {
   "cell_type": "markdown",
   "id": "8701ff9a",
   "metadata": {},
   "source": [
    "# Let's label our dataset of tweets"
   ]
  },
  {
   "cell_type": "code",
   "execution_count": 28,
   "id": "35a80b65",
   "metadata": {},
   "outputs": [],
   "source": [
    "\n",
    "df = pd.read_csv(\"/Users/anouaroussalah/Desktop/3A/SM10/Deep Learning/Project/tweets_processed_2.csv\",  lineterminator=\"\\n\", nrows=100)\n"
   ]
  },
  {
   "cell_type": "code",
   "execution_count": 31,
   "id": "03c86df9",
   "metadata": {},
   "outputs": [
    {
     "data": {
      "text/html": [
       "<div>\n",
       "<style scoped>\n",
       "    .dataframe tbody tr th:only-of-type {\n",
       "        vertical-align: middle;\n",
       "    }\n",
       "\n",
       "    .dataframe tbody tr th {\n",
       "        vertical-align: top;\n",
       "    }\n",
       "\n",
       "    .dataframe thead th {\n",
       "        text-align: right;\n",
       "    }\n",
       "</style>\n",
       "<table border=\"1\" class=\"dataframe\">\n",
       "  <thead>\n",
       "    <tr style=\"text-align: right;\">\n",
       "      <th></th>\n",
       "      <th>user_name</th>\n",
       "      <th>user_created</th>\n",
       "      <th>user_followers</th>\n",
       "      <th>user_friends</th>\n",
       "      <th>user_favourites</th>\n",
       "      <th>user_verified</th>\n",
       "      <th>date</th>\n",
       "      <th>haha</th>\n",
       "    </tr>\n",
       "  </thead>\n",
       "  <tbody>\n",
       "    <tr>\n",
       "      <th>0</th>\n",
       "      <td>Iconic Holding</td>\n",
       "      <td>2021-01-05 13:22:24</td>\n",
       "      <td>301.0</td>\n",
       "      <td>1075.0</td>\n",
       "      <td>361.0</td>\n",
       "      <td>False</td>\n",
       "      <td>2021-02-05 10:52:04</td>\n",
       "      <td>2   debunking 9 bitcoin myths by       cryptoc...</td>\n",
       "    </tr>\n",
       "    <tr>\n",
       "      <th>1</th>\n",
       "      <td>Iconic Holding</td>\n",
       "      <td>2021-01-05 13:22:24</td>\n",
       "      <td>301.0</td>\n",
       "      <td>1075.0</td>\n",
       "      <td>361.0</td>\n",
       "      <td>False</td>\n",
       "      <td>2021-02-05 10:52:04</td>\n",
       "      <td>weekend read   keen to learn about crypto as...</td>\n",
       "    </tr>\n",
       "    <tr>\n",
       "      <th>2</th>\n",
       "      <td>Iconic Holding</td>\n",
       "      <td>2021-01-05 13:22:24</td>\n",
       "      <td>301.0</td>\n",
       "      <td>1075.0</td>\n",
       "      <td>361.0</td>\n",
       "      <td>False</td>\n",
       "      <td>2021-02-05 10:52:06</td>\n",
       "      <td>4   bloomberg lp cryptooutlook 2021 with    cr...</td>\n",
       "    </tr>\n",
       "    <tr>\n",
       "      <th>3</th>\n",
       "      <td>Iconic Holding</td>\n",
       "      <td>2021-01-05 13:22:24</td>\n",
       "      <td>301.0</td>\n",
       "      <td>1075.0</td>\n",
       "      <td>361.0</td>\n",
       "      <td>False</td>\n",
       "      <td>2021-02-05 10:52:07</td>\n",
       "      <td>5   blockchain 50 2021 by   ,     cryptocurren...</td>\n",
       "    </tr>\n",
       "    <tr>\n",
       "      <th>4</th>\n",
       "      <td>Nick Doevendans</td>\n",
       "      <td>2020-06-12 16:50:07</td>\n",
       "      <td>37.0</td>\n",
       "      <td>123.0</td>\n",
       "      <td>410.0</td>\n",
       "      <td>False</td>\n",
       "      <td>2021-02-05 10:52:26</td>\n",
       "      <td>reddcoin rdd  to the moon altcoin turnreddcoin...</td>\n",
       "    </tr>\n",
       "  </tbody>\n",
       "</table>\n",
       "</div>"
      ],
      "text/plain": [
       "         user_name         user_created  user_followers  user_friends  \\\n",
       "0   Iconic Holding  2021-01-05 13:22:24           301.0        1075.0   \n",
       "1   Iconic Holding  2021-01-05 13:22:24           301.0        1075.0   \n",
       "2   Iconic Holding  2021-01-05 13:22:24           301.0        1075.0   \n",
       "3   Iconic Holding  2021-01-05 13:22:24           301.0        1075.0   \n",
       "4  Nick Doevendans  2020-06-12 16:50:07            37.0         123.0   \n",
       "\n",
       "   user_favourites  user_verified                 date  \\\n",
       "0            361.0          False  2021-02-05 10:52:04   \n",
       "1            361.0          False  2021-02-05 10:52:04   \n",
       "2            361.0          False  2021-02-05 10:52:06   \n",
       "3            361.0          False  2021-02-05 10:52:07   \n",
       "4            410.0          False  2021-02-05 10:52:26   \n",
       "\n",
       "                                                haha  \n",
       "0  2   debunking 9 bitcoin myths by       cryptoc...  \n",
       "1    weekend read   keen to learn about crypto as...  \n",
       "2  4   bloomberg lp cryptooutlook 2021 with    cr...  \n",
       "3  5   blockchain 50 2021 by   ,     cryptocurren...  \n",
       "4  reddcoin rdd  to the moon altcoin turnreddcoin...  "
      ]
     },
     "execution_count": 31,
     "metadata": {},
     "output_type": "execute_result"
    }
   ],
   "source": [
    "df.columns = ['user_name', 'user_created', 'user_followers', 'user_friends',\n",
    "       'user_favourites', 'user_verified', 'date', 'haha']\n",
    "df.head(5)"
   ]
  },
  {
   "cell_type": "code",
   "execution_count": 15,
   "id": "7186de7c",
   "metadata": {},
   "outputs": [],
   "source": [
    "def labelize_dataset(path_input, path_output, nrows):\n",
    "    \n",
    "    start = time.time()\n",
    "    \n",
    "    for k in tqdm(range(10)):\n",
    "        \n",
    "        start_loop = time.time()\n",
    "        \n",
    "        df = pd.read_csv(path_input, lineterminator=\"\\n\", skiprows=k*nrows , nrows=nrows)\n",
    "        \n",
    "        df.columns = ['user_name', 'user_created', 'user_followers', 'user_friends', 'user_favourites', 'user_verified', 'date', 'sentence', 'day_date']\n",
    "        \n",
    "        df['sentence'] = df['sentence'].astype(\"string\")\n",
    "        df = df.dropna(subset=['sentence'])\n",
    "        \n",
    "        # Make predictions\n",
    "        df['predicted label']= model.predict(df)\n",
    "        \n",
    "        if os.path.exists(path_output):\n",
    "            \n",
    "            df.to_csv(path_output, index=False, header=True)\n",
    "            \n",
    "        else:\n",
    "            \n",
    "            df.to_csv(path_output, mode='a', index=False, header=False)\n",
    "            \n",
    "        end_loop = time.time()\n",
    "        \n",
    "        print(f\"batch done in {round(end_loop-start_loop)} s\")\n",
    "        \n",
    "    end = time.time()\n",
    "    \n",
    "    print(f\"Job done succesfully in {round(end-start)} s\")\n",
    "    \n",
    "    return None"
   ]
  },
  {
   "cell_type": "code",
   "execution_count": null,
   "id": "65775183",
   "metadata": {},
   "outputs": [
    {
     "name": "stderr",
     "output_type": "stream",
     "text": [
      " 10%|████▍                                       | 1/10 [00:15<02:19, 15.48s/it]"
     ]
    },
    {
     "name": "stdout",
     "output_type": "stream",
     "text": [
      "batch done in 15 s\n"
     ]
    },
    {
     "name": "stderr",
     "output_type": "stream",
     "text": [
      "\r",
      " 20%|████████▊                                   | 2/10 [00:30<02:01, 15.17s/it]"
     ]
    },
    {
     "name": "stdout",
     "output_type": "stream",
     "text": [
      "batch done in 15 s\n"
     ]
    },
    {
     "name": "stderr",
     "output_type": "stream",
     "text": [
      "\r",
      " 30%|█████████████▏                              | 3/10 [00:45<01:46, 15.23s/it]"
     ]
    },
    {
     "name": "stdout",
     "output_type": "stream",
     "text": [
      "batch done in 15 s\n"
     ]
    },
    {
     "name": "stderr",
     "output_type": "stream",
     "text": [
      "\r",
      " 40%|█████████████████▌                          | 4/10 [01:01<01:32, 15.38s/it]"
     ]
    },
    {
     "name": "stdout",
     "output_type": "stream",
     "text": [
      "batch done in 16 s\n"
     ]
    },
    {
     "name": "stderr",
     "output_type": "stream",
     "text": [
      "\r",
      " 50%|██████████████████████                      | 5/10 [01:16<01:17, 15.47s/it]"
     ]
    },
    {
     "name": "stdout",
     "output_type": "stream",
     "text": [
      "batch done in 16 s\n"
     ]
    },
    {
     "name": "stderr",
     "output_type": "stream",
     "text": [
      "\r",
      " 60%|██████████████████████████▍                 | 6/10 [01:32<01:02, 15.58s/it]"
     ]
    },
    {
     "name": "stdout",
     "output_type": "stream",
     "text": [
      "batch done in 16 s\n"
     ]
    },
    {
     "name": "stderr",
     "output_type": "stream",
     "text": [
      "\r",
      " 70%|██████████████████████████████▊             | 7/10 [01:48<00:47, 15.77s/it]"
     ]
    },
    {
     "name": "stdout",
     "output_type": "stream",
     "text": [
      "batch done in 16 s\n"
     ]
    },
    {
     "name": "stderr",
     "output_type": "stream",
     "text": [
      "\r",
      " 80%|███████████████████████████████████▏        | 8/10 [02:05<00:31, 15.88s/it]"
     ]
    },
    {
     "name": "stdout",
     "output_type": "stream",
     "text": [
      "batch done in 16 s\n"
     ]
    },
    {
     "name": "stderr",
     "output_type": "stream",
     "text": [
      "\r",
      " 90%|███████████████████████████████████████▌    | 9/10 [02:21<00:15, 15.95s/it]"
     ]
    },
    {
     "name": "stdout",
     "output_type": "stream",
     "text": [
      "batch done in 16 s\n"
     ]
    }
   ],
   "source": [
    "path_input = \"/Users/anouaroussalah/Desktop/3A/SM10/Deep Learning/Project/tweets_processed_3.csv\"\n",
    "path_output = \"/Users/anouaroussalah/Desktop/3A/SM10/Deep Learning/Project/tweets_labelized_2.csv\"\n",
    "labelize_dataset(path_input, path_output, nrows=100)"
   ]
  },
  {
   "cell_type": "code",
   "execution_count": 12,
   "id": "244b8364",
   "metadata": {},
   "outputs": [],
   "source": [
    "nrows = 100\n",
    "df_test = pd.read_csv(path_input, lineterminator=\"\\n\", skiprows=1*nrows , nrows=nrows)"
   ]
  },
  {
   "cell_type": "code",
   "execution_count": 13,
   "id": "cee895b3",
   "metadata": {},
   "outputs": [
    {
     "data": {
      "text/plain": [
       "100"
      ]
     },
     "execution_count": 13,
     "metadata": {},
     "output_type": "execute_result"
    }
   ],
   "source": [
    "len(df_test)"
   ]
  },
  {
   "cell_type": "code",
   "execution_count": 14,
   "id": "232f4926",
   "metadata": {},
   "outputs": [
    {
     "data": {
      "text/html": [
       "<div>\n",
       "<style scoped>\n",
       "    .dataframe tbody tr th:only-of-type {\n",
       "        vertical-align: middle;\n",
       "    }\n",
       "\n",
       "    .dataframe tbody tr th {\n",
       "        vertical-align: top;\n",
       "    }\n",
       "\n",
       "    .dataframe thead th {\n",
       "        text-align: right;\n",
       "    }\n",
       "</style>\n",
       "<table border=\"1\" class=\"dataframe\">\n",
       "  <thead>\n",
       "    <tr style=\"text-align: right;\">\n",
       "      <th></th>\n",
       "      <th>Crypto Trader</th>\n",
       "      <th>2017-09-09 04:26:15</th>\n",
       "      <th>1094.0</th>\n",
       "      <th>161.0</th>\n",
       "      <th>59.0</th>\n",
       "      <th>False</th>\n",
       "      <th>2021-02-05 12:00:03</th>\n",
       "      <th>bitcoin: $37,681.21  +1.25% (+$465.30) high: $37,784.41 low: $36,200.10 volume: 399  $btc btc bitcoin</th>\n",
       "      <th>2021-02-05</th>\n",
       "    </tr>\n",
       "  </thead>\n",
       "  <tbody>\n",
       "    <tr>\n",
       "      <th>0</th>\n",
       "      <td>Kur Kaç Oldu?</td>\n",
       "      <td>2016-08-14 08:28:42</td>\n",
       "      <td>2158.0</td>\n",
       "      <td>1.0</td>\n",
       "      <td>3.0</td>\n",
       "      <td>False</td>\n",
       "      <td>2021-02-05 12:00:03</td>\n",
       "      <td>15:00  bitcoin = 37.698,2490 $ bitcoin btc bt...</td>\n",
       "      <td>2021-02-05</td>\n",
       "    </tr>\n",
       "    <tr>\n",
       "      <th>1</th>\n",
       "      <td>Kur Ne Oldu</td>\n",
       "      <td>2019-02-11 08:43:21</td>\n",
       "      <td>4154.0</td>\n",
       "      <td>76.0</td>\n",
       "      <td>46.0</td>\n",
       "      <td>False</td>\n",
       "      <td>2021-02-05 12:00:03</td>\n",
       "      <td>15:00  bitcoin = 37.698,2490 $ bitcoin btc bt...</td>\n",
       "      <td>2021-02-05</td>\n",
       "    </tr>\n",
       "    <tr>\n",
       "      <th>2</th>\n",
       "      <td>CryptoInsights</td>\n",
       "      <td>2017-01-29 16:53:02</td>\n",
       "      <td>9.0</td>\n",
       "      <td>141.0</td>\n",
       "      <td>8.0</td>\n",
       "      <td>False</td>\n",
       "      <td>2021-02-05 12:00:06</td>\n",
       "      <td>timestamp:12:00:03 btc cryptocurrency crypto b...</td>\n",
       "      <td>2021-02-05</td>\n",
       "    </tr>\n",
       "    <tr>\n",
       "      <th>3</th>\n",
       "      <td>Coinstats</td>\n",
       "      <td>2016-04-30 15:47:58</td>\n",
       "      <td>3510.0</td>\n",
       "      <td>0.0</td>\n",
       "      <td>0.0</td>\n",
       "      <td>False</td>\n",
       "      <td>2021-02-05 12:00:07</td>\n",
       "      <td>bitcoin - btc price: $37,605.44 change in 1h: ...</td>\n",
       "      <td>2021-02-05</td>\n",
       "    </tr>\n",
       "    <tr>\n",
       "      <th>4</th>\n",
       "      <td>DeSota Wilson</td>\n",
       "      <td>2009-04-26 20:05:09</td>\n",
       "      <td>8532.0</td>\n",
       "      <td>7604.0</td>\n",
       "      <td>4838.0</td>\n",
       "      <td>False</td>\n",
       "      <td>2021-02-05 12:01:12</td>\n",
       "      <td>crypto prices | 7:00 am | 2/5/21  bitcoin btc ...</td>\n",
       "      <td>2021-02-05</td>\n",
       "    </tr>\n",
       "    <tr>\n",
       "      <th>...</th>\n",
       "      <td>...</td>\n",
       "      <td>...</td>\n",
       "      <td>...</td>\n",
       "      <td>...</td>\n",
       "      <td>...</td>\n",
       "      <td>...</td>\n",
       "      <td>...</td>\n",
       "      <td>...</td>\n",
       "      <td>...</td>\n",
       "    </tr>\n",
       "    <tr>\n",
       "      <th>95</th>\n",
       "      <td>Çağdaş Takmaz</td>\n",
       "      <td>2010-08-09 23:18:00</td>\n",
       "      <td>308.0</td>\n",
       "      <td>169.0</td>\n",
       "      <td>30.0</td>\n",
       "      <td>False</td>\n",
       "      <td>2021-02-05 12:42:49</td>\n",
       "      <td>share for happiness and you become a robinhoo...</td>\n",
       "      <td>2021-02-05</td>\n",
       "    </tr>\n",
       "    <tr>\n",
       "      <th>96</th>\n",
       "      <td>Will</td>\n",
       "      <td>2020-12-06 17:03:26</td>\n",
       "      <td>3.0</td>\n",
       "      <td>8.0</td>\n",
       "      <td>6.0</td>\n",
       "      <td>False</td>\n",
       "      <td>2021-02-05 12:42:52</td>\n",
       "      <td>follow me on  let's hunt for bitcoins togethe...</td>\n",
       "      <td>2021-02-05</td>\n",
       "    </tr>\n",
       "    <tr>\n",
       "      <th>97</th>\n",
       "      <td>Çağdaş Takmaz</td>\n",
       "      <td>2010-08-09 23:18:00</td>\n",
       "      <td>308.0</td>\n",
       "      <td>169.0</td>\n",
       "      <td>30.0</td>\n",
       "      <td>False</td>\n",
       "      <td>2021-02-05 12:43:20</td>\n",
       "      <td>share for happiness and you become a robinho...</td>\n",
       "      <td>2021-02-05</td>\n",
       "    </tr>\n",
       "    <tr>\n",
       "      <th>98</th>\n",
       "      <td>Rio</td>\n",
       "      <td>2021-01-29 02:51:02</td>\n",
       "      <td>2.0</td>\n",
       "      <td>24.0</td>\n",
       "      <td>0.0</td>\n",
       "      <td>False</td>\n",
       "      <td>2021-02-05 12:43:33</td>\n",
       "      <td>new coin airdrop. click link below for the air...</td>\n",
       "      <td>2021-02-05</td>\n",
       "    </tr>\n",
       "    <tr>\n",
       "      <th>99</th>\n",
       "      <td>Bitcoin Mate (BTC News App)</td>\n",
       "      <td>2015-03-08 06:31:18</td>\n",
       "      <td>3312.0</td>\n",
       "      <td>1976.0</td>\n",
       "      <td>201.0</td>\n",
       "      <td>False</td>\n",
       "      <td>2021-02-05 12:43:49</td>\n",
       "      <td>robinhood saga reveals deeper flaw in web 2.0:...</td>\n",
       "      <td>2021-02-05</td>\n",
       "    </tr>\n",
       "  </tbody>\n",
       "</table>\n",
       "<p>100 rows × 9 columns</p>\n",
       "</div>"
      ],
      "text/plain": [
       "                  Crypto Trader  2017-09-09 04:26:15  1094.0   161.0    59.0  \\\n",
       "0                 Kur Kaç Oldu?  2016-08-14 08:28:42  2158.0     1.0     3.0   \n",
       "1                   Kur Ne Oldu  2019-02-11 08:43:21  4154.0    76.0    46.0   \n",
       "2                CryptoInsights  2017-01-29 16:53:02     9.0   141.0     8.0   \n",
       "3                     Coinstats  2016-04-30 15:47:58  3510.0     0.0     0.0   \n",
       "4                 DeSota Wilson  2009-04-26 20:05:09  8532.0  7604.0  4838.0   \n",
       "..                          ...                  ...     ...     ...     ...   \n",
       "95                Çağdaş Takmaz  2010-08-09 23:18:00   308.0   169.0    30.0   \n",
       "96                         Will  2020-12-06 17:03:26     3.0     8.0     6.0   \n",
       "97                Çağdaş Takmaz  2010-08-09 23:18:00   308.0   169.0    30.0   \n",
       "98                          Rio  2021-01-29 02:51:02     2.0    24.0     0.0   \n",
       "99  Bitcoin Mate (BTC News App)  2015-03-08 06:31:18  3312.0  1976.0   201.0   \n",
       "\n",
       "    False  2021-02-05 12:00:03  \\\n",
       "0   False  2021-02-05 12:00:03   \n",
       "1   False  2021-02-05 12:00:03   \n",
       "2   False  2021-02-05 12:00:06   \n",
       "3   False  2021-02-05 12:00:07   \n",
       "4   False  2021-02-05 12:01:12   \n",
       "..    ...                  ...   \n",
       "95  False  2021-02-05 12:42:49   \n",
       "96  False  2021-02-05 12:42:52   \n",
       "97  False  2021-02-05 12:43:20   \n",
       "98  False  2021-02-05 12:43:33   \n",
       "99  False  2021-02-05 12:43:49   \n",
       "\n",
       "   bitcoin: $37,681.21  +1.25% (+$465.30) high: $37,784.41 low: $36,200.10 volume: 399  $btc btc bitcoin  \\\n",
       "0    15:00  bitcoin = 37.698,2490 $ bitcoin btc bt...                                                      \n",
       "1    15:00  bitcoin = 37.698,2490 $ bitcoin btc bt...                                                      \n",
       "2   timestamp:12:00:03 btc cryptocurrency crypto b...                                                      \n",
       "3   bitcoin - btc price: $37,605.44 change in 1h: ...                                                      \n",
       "4   crypto prices | 7:00 am | 2/5/21  bitcoin btc ...                                                      \n",
       "..                                                ...                                                      \n",
       "95   share for happiness and you become a robinhoo...                                                      \n",
       "96   follow me on  let's hunt for bitcoins togethe...                                                      \n",
       "97    share for happiness and you become a robinho...                                                      \n",
       "98  new coin airdrop. click link below for the air...                                                      \n",
       "99  robinhood saga reveals deeper flaw in web 2.0:...                                                      \n",
       "\n",
       "    2021-02-05  \n",
       "0   2021-02-05  \n",
       "1   2021-02-05  \n",
       "2   2021-02-05  \n",
       "3   2021-02-05  \n",
       "4   2021-02-05  \n",
       "..         ...  \n",
       "95  2021-02-05  \n",
       "96  2021-02-05  \n",
       "97  2021-02-05  \n",
       "98  2021-02-05  \n",
       "99  2021-02-05  \n",
       "\n",
       "[100 rows x 9 columns]"
      ]
     },
     "execution_count": 14,
     "metadata": {},
     "output_type": "execute_result"
    }
   ],
   "source": [
    "df_test"
   ]
  },
  {
   "cell_type": "code",
   "execution_count": null,
   "id": "5cea53f2",
   "metadata": {},
   "outputs": [],
   "source": []
  }
 ],
 "metadata": {
  "kernelspec": {
   "display_name": "Python 3 (ipykernel)",
   "language": "python",
   "name": "python3"
  },
  "language_info": {
   "codemirror_mode": {
    "name": "ipython",
    "version": 3
   },
   "file_extension": ".py",
   "mimetype": "text/x-python",
   "name": "python",
   "nbconvert_exporter": "python",
   "pygments_lexer": "ipython3",
   "version": "3.9.13"
  }
 },
 "nbformat": 4,
 "nbformat_minor": 5
}

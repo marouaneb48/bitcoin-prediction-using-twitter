{
 "cells": [
  {
   "cell_type": "markdown",
   "id": "60c0f68f",
   "metadata": {},
   "source": [
    "# Import libraries and dataset"
   ]
  },
  {
   "cell_type": "code",
   "execution_count": 1,
   "id": "e77f937a",
   "metadata": {},
   "outputs": [],
   "source": [
    "import matplotlib.pyplot as plt\n",
    "import pandas as pd \n",
    "import numpy as np\n",
    "import os\n",
    "import seaborn as sns \n",
    "\n",
    "from wordcloud import WordCloud\n",
    "import re\n",
    "import nltk \n",
    "from nltk.corpus import stopwords\n",
    "from nltk.stem.porter import *\n",
    "from tqdm import tqdm\n",
    "#nltk.download('stopwords')\n",
    "\n",
    "from IPython.display import display, HTML"
   ]
  },
  {
   "cell_type": "code",
   "execution_count": 2,
   "id": "f9ec7531",
   "metadata": {},
   "outputs": [
    {
     "data": {
      "text/plain": [
       "'/Users/anouaroussalah/Desktop/3A/SM10/Deep Learning/bitcoin-prediction-using-twitter/notebooks'"
      ]
     },
     "execution_count": 2,
     "metadata": {},
     "output_type": "execute_result"
    }
   ],
   "source": [
    "os.getcwd()"
   ]
  },
  {
   "cell_type": "code",
   "execution_count": 2,
   "id": "1dc36574",
   "metadata": {},
   "outputs": [
    {
     "name": "stderr",
     "output_type": "stream",
     "text": [
      "/var/folders/v2/_1kj2jc57736h6nlnncs10080000gn/T/ipykernel_3640/1453725613.py:1: DtypeWarning: Columns (1,2,3,4,5,6,7,8,9,10,11,12) have mixed types. Specify dtype option on import or set low_memory=False.\n",
      "  df = pd.read_csv(\"/Users/anouaroussalah/Desktop/3A/SM10/Deep Learning/bitcoin_tweets.csv\",\n"
     ]
    }
   ],
   "source": [
    "df = pd.read_csv(\"/Users/anouaroussalah/Desktop/3A/SM10/Deep Learning/bitcoin_tweets.csv\", \n",
    "                 #nrows=100000\n",
    "                )"
   ]
  },
  {
   "cell_type": "code",
   "execution_count": 3,
   "id": "cd1d6e10",
   "metadata": {},
   "outputs": [],
   "source": [
    "# Remove retweeted \n",
    "df = df[df.is_retweet==False]"
   ]
  },
  {
   "cell_type": "code",
   "execution_count": 4,
   "id": "3ece49d0",
   "metadata": {},
   "outputs": [],
   "source": [
    "relevant_features = [\"user_name\", \"user_created\", \"user_followers\", \"user_friends\", \"user_favourites\", \"user_verified\", \"date\", \"hashtags\", \"text\"]"
   ]
  },
  {
   "cell_type": "code",
   "execution_count": 5,
   "id": "7bf5bfc2",
   "metadata": {},
   "outputs": [
    {
     "data": {
      "text/html": [
       "<div>\n",
       "<style scoped>\n",
       "    .dataframe tbody tr th:only-of-type {\n",
       "        vertical-align: middle;\n",
       "    }\n",
       "\n",
       "    .dataframe tbody tr th {\n",
       "        vertical-align: top;\n",
       "    }\n",
       "\n",
       "    .dataframe thead th {\n",
       "        text-align: right;\n",
       "    }\n",
       "</style>\n",
       "<table border=\"1\" class=\"dataframe\">\n",
       "  <thead>\n",
       "    <tr style=\"text-align: right;\">\n",
       "      <th></th>\n",
       "      <th>user_name</th>\n",
       "      <th>user_created</th>\n",
       "      <th>user_followers</th>\n",
       "      <th>user_friends</th>\n",
       "      <th>user_favourites</th>\n",
       "      <th>user_verified</th>\n",
       "      <th>date</th>\n",
       "      <th>hashtags</th>\n",
       "      <th>text</th>\n",
       "    </tr>\n",
       "  </thead>\n",
       "  <tbody>\n",
       "    <tr>\n",
       "      <th>0</th>\n",
       "      <td>DeSota Wilson</td>\n",
       "      <td>2009-04-26 20:05:09</td>\n",
       "      <td>8534.0</td>\n",
       "      <td>7605</td>\n",
       "      <td>4838</td>\n",
       "      <td>False</td>\n",
       "      <td>2021-02-10 23:59:04</td>\n",
       "      <td>['bitcoin']</td>\n",
       "      <td>Blue Ridge Bank shares halted by NYSE after #b...</td>\n",
       "    </tr>\n",
       "    <tr>\n",
       "      <th>1</th>\n",
       "      <td>CryptoND</td>\n",
       "      <td>2019-10-17 20:12:10</td>\n",
       "      <td>6769.0</td>\n",
       "      <td>1532</td>\n",
       "      <td>25483</td>\n",
       "      <td>False</td>\n",
       "      <td>2021-02-10 23:58:48</td>\n",
       "      <td>['Thursday', 'Btc', 'wallet', 'security']</td>\n",
       "      <td>😎 Today, that's this #Thursday, we will do a \"...</td>\n",
       "    </tr>\n",
       "    <tr>\n",
       "      <th>2</th>\n",
       "      <td>Tdlmatias</td>\n",
       "      <td>2014-11-10 10:50:37</td>\n",
       "      <td>128.0</td>\n",
       "      <td>332</td>\n",
       "      <td>924</td>\n",
       "      <td>False</td>\n",
       "      <td>2021-02-10 23:54:48</td>\n",
       "      <td>NaN</td>\n",
       "      <td>Guys evening, I have read this article about B...</td>\n",
       "    </tr>\n",
       "  </tbody>\n",
       "</table>\n",
       "</div>"
      ],
      "text/plain": [
       "       user_name         user_created user_followers user_friends  \\\n",
       "0  DeSota Wilson  2009-04-26 20:05:09         8534.0         7605   \n",
       "1       CryptoND  2019-10-17 20:12:10         6769.0         1532   \n",
       "2      Tdlmatias  2014-11-10 10:50:37          128.0          332   \n",
       "\n",
       "  user_favourites user_verified                 date  \\\n",
       "0            4838         False  2021-02-10 23:59:04   \n",
       "1           25483         False  2021-02-10 23:58:48   \n",
       "2             924         False  2021-02-10 23:54:48   \n",
       "\n",
       "                                    hashtags  \\\n",
       "0                                ['bitcoin']   \n",
       "1  ['Thursday', 'Btc', 'wallet', 'security']   \n",
       "2                                        NaN   \n",
       "\n",
       "                                                text  \n",
       "0  Blue Ridge Bank shares halted by NYSE after #b...  \n",
       "1  😎 Today, that's this #Thursday, we will do a \"...  \n",
       "2  Guys evening, I have read this article about B...  "
      ]
     },
     "execution_count": 5,
     "metadata": {},
     "output_type": "execute_result"
    }
   ],
   "source": [
    "df_1 = df[relevant_features]\n",
    "df_1.head(3)"
   ]
  },
  {
   "cell_type": "code",
   "execution_count": 6,
   "id": "bf333c74",
   "metadata": {},
   "outputs": [
    {
     "name": "stderr",
     "output_type": "stream",
     "text": [
      "/var/folders/v2/_1kj2jc57736h6nlnncs10080000gn/T/ipykernel_3640/977823842.py:11: SettingWithCopyWarning: \n",
      "A value is trying to be set on a copy of a slice from a DataFrame.\n",
      "Try using .loc[row_indexer,col_indexer] = value instead\n",
      "\n",
      "See the caveats in the documentation: https://pandas.pydata.org/pandas-docs/stable/user_guide/indexing.html#returning-a-view-versus-a-copy\n",
      "  df_1['clean_tweet'] = df_1['text'].apply(clean_text)\n"
     ]
    }
   ],
   "source": [
    "def clean_text(s):\n",
    "    s = re.sub(r'http\\S+', '', s)\n",
    "    s = re.sub('(RT|via)((?:\\\\b\\\\W*@\\\\w+)+)', ' ', s)\n",
    "    s = re.sub(r'#', '', s)\n",
    "    s = re.sub(r'\\n', ' ', s)\n",
    "    s = re.sub(r'\\t', ' ', s)\n",
    "    s = re.sub(r'@\\S+', '', s)\n",
    "    s = re.sub('&amp', ' ', s)\n",
    "    return s\n",
    "\n",
    "df_1['clean_tweet'] = df_1['text'].apply(clean_text)"
   ]
  },
  {
   "cell_type": "code",
   "execution_count": 7,
   "id": "28fc9784",
   "metadata": {},
   "outputs": [
    {
     "data": {
      "text/html": [
       "<div>\n",
       "<style scoped>\n",
       "    .dataframe tbody tr th:only-of-type {\n",
       "        vertical-align: middle;\n",
       "    }\n",
       "\n",
       "    .dataframe tbody tr th {\n",
       "        vertical-align: top;\n",
       "    }\n",
       "\n",
       "    .dataframe thead th {\n",
       "        text-align: right;\n",
       "    }\n",
       "</style>\n",
       "<table border=\"1\" class=\"dataframe\">\n",
       "  <thead>\n",
       "    <tr style=\"text-align: right;\">\n",
       "      <th></th>\n",
       "      <th>user_name</th>\n",
       "      <th>user_created</th>\n",
       "      <th>user_followers</th>\n",
       "      <th>user_friends</th>\n",
       "      <th>user_favourites</th>\n",
       "      <th>user_verified</th>\n",
       "      <th>date</th>\n",
       "      <th>hashtags</th>\n",
       "      <th>text</th>\n",
       "      <th>clean_tweet</th>\n",
       "    </tr>\n",
       "  </thead>\n",
       "  <tbody>\n",
       "    <tr>\n",
       "      <th>0</th>\n",
       "      <td>DeSota Wilson</td>\n",
       "      <td>2009-04-26 20:05:09</td>\n",
       "      <td>8534.0</td>\n",
       "      <td>7605</td>\n",
       "      <td>4838</td>\n",
       "      <td>False</td>\n",
       "      <td>2021-02-10 23:59:04</td>\n",
       "      <td>['bitcoin']</td>\n",
       "      <td>Blue Ridge Bank shares halted by NYSE after #b...</td>\n",
       "      <td>Blue Ridge Bank shares halted by NYSE after bi...</td>\n",
       "    </tr>\n",
       "    <tr>\n",
       "      <th>1</th>\n",
       "      <td>CryptoND</td>\n",
       "      <td>2019-10-17 20:12:10</td>\n",
       "      <td>6769.0</td>\n",
       "      <td>1532</td>\n",
       "      <td>25483</td>\n",
       "      <td>False</td>\n",
       "      <td>2021-02-10 23:58:48</td>\n",
       "      <td>['Thursday', 'Btc', 'wallet', 'security']</td>\n",
       "      <td>😎 Today, that's this #Thursday, we will do a \"...</td>\n",
       "      <td>😎 Today, that's this Thursday, we will do a \"🎬...</td>\n",
       "    </tr>\n",
       "    <tr>\n",
       "      <th>2</th>\n",
       "      <td>Tdlmatias</td>\n",
       "      <td>2014-11-10 10:50:37</td>\n",
       "      <td>128.0</td>\n",
       "      <td>332</td>\n",
       "      <td>924</td>\n",
       "      <td>False</td>\n",
       "      <td>2021-02-10 23:54:48</td>\n",
       "      <td>NaN</td>\n",
       "      <td>Guys evening, I have read this article about B...</td>\n",
       "      <td>Guys evening, I have read this article about B...</td>\n",
       "    </tr>\n",
       "    <tr>\n",
       "      <th>3</th>\n",
       "      <td>Crypto is the future</td>\n",
       "      <td>2019-09-28 16:48:12</td>\n",
       "      <td>625.0</td>\n",
       "      <td>129</td>\n",
       "      <td>14</td>\n",
       "      <td>False</td>\n",
       "      <td>2021-02-10 23:54:33</td>\n",
       "      <td>['Bitcoin', 'FX', 'BTC', 'crypto']</td>\n",
       "      <td>$BTC A big chance in a billion! Price: \\487264...</td>\n",
       "      <td>$BTC A big chance in a billion! Price: \\487264...</td>\n",
       "    </tr>\n",
       "    <tr>\n",
       "      <th>4</th>\n",
       "      <td>Alex Kirchmaier 🇦🇹🇸🇪 #FactsSuperspreader</td>\n",
       "      <td>2016-02-03 13:15:55</td>\n",
       "      <td>1249.0</td>\n",
       "      <td>1472</td>\n",
       "      <td>10482</td>\n",
       "      <td>False</td>\n",
       "      <td>2021-02-10 23:54:06</td>\n",
       "      <td>['BTC']</td>\n",
       "      <td>This network is secured by 9 508 nodes as of t...</td>\n",
       "      <td>This network is secured by 9 508 nodes as of t...</td>\n",
       "    </tr>\n",
       "  </tbody>\n",
       "</table>\n",
       "</div>"
      ],
      "text/plain": [
       "                                  user_name         user_created  \\\n",
       "0                             DeSota Wilson  2009-04-26 20:05:09   \n",
       "1                                  CryptoND  2019-10-17 20:12:10   \n",
       "2                                 Tdlmatias  2014-11-10 10:50:37   \n",
       "3                      Crypto is the future  2019-09-28 16:48:12   \n",
       "4  Alex Kirchmaier 🇦🇹🇸🇪 #FactsSuperspreader  2016-02-03 13:15:55   \n",
       "\n",
       "  user_followers user_friends user_favourites user_verified  \\\n",
       "0         8534.0         7605            4838         False   \n",
       "1         6769.0         1532           25483         False   \n",
       "2          128.0          332             924         False   \n",
       "3          625.0          129              14         False   \n",
       "4         1249.0         1472           10482         False   \n",
       "\n",
       "                  date                                   hashtags  \\\n",
       "0  2021-02-10 23:59:04                                ['bitcoin']   \n",
       "1  2021-02-10 23:58:48  ['Thursday', 'Btc', 'wallet', 'security']   \n",
       "2  2021-02-10 23:54:48                                        NaN   \n",
       "3  2021-02-10 23:54:33         ['Bitcoin', 'FX', 'BTC', 'crypto']   \n",
       "4  2021-02-10 23:54:06                                    ['BTC']   \n",
       "\n",
       "                                                text  \\\n",
       "0  Blue Ridge Bank shares halted by NYSE after #b...   \n",
       "1  😎 Today, that's this #Thursday, we will do a \"...   \n",
       "2  Guys evening, I have read this article about B...   \n",
       "3  $BTC A big chance in a billion! Price: \\487264...   \n",
       "4  This network is secured by 9 508 nodes as of t...   \n",
       "\n",
       "                                         clean_tweet  \n",
       "0  Blue Ridge Bank shares halted by NYSE after bi...  \n",
       "1  😎 Today, that's this Thursday, we will do a \"🎬...  \n",
       "2  Guys evening, I have read this article about B...  \n",
       "3  $BTC A big chance in a billion! Price: \\487264...  \n",
       "4  This network is secured by 9 508 nodes as of t...  "
      ]
     },
     "execution_count": 7,
     "metadata": {},
     "output_type": "execute_result"
    }
   ],
   "source": [
    "df_1.head(5)"
   ]
  },
  {
   "cell_type": "code",
   "execution_count": 8,
   "id": "d5b63baf",
   "metadata": {},
   "outputs": [],
   "source": [
    "def lower_case(text):\n",
    "    text = text.lower()\n",
    "    return text"
   ]
  },
  {
   "cell_type": "code",
   "execution_count": 9,
   "id": "07b2973a",
   "metadata": {},
   "outputs": [
    {
     "name": "stderr",
     "output_type": "stream",
     "text": [
      "/var/folders/v2/_1kj2jc57736h6nlnncs10080000gn/T/ipykernel_3640/2393350958.py:1: SettingWithCopyWarning: \n",
      "A value is trying to be set on a copy of a slice from a DataFrame.\n",
      "Try using .loc[row_indexer,col_indexer] = value instead\n",
      "\n",
      "See the caveats in the documentation: https://pandas.pydata.org/pandas-docs/stable/user_guide/indexing.html#returning-a-view-versus-a-copy\n",
      "  df_1[\"clean_tweet\"] = df_1[\"clean_tweet\"].apply(lower_case)\n"
     ]
    }
   ],
   "source": [
    "df_1[\"clean_tweet\"] = df_1[\"clean_tweet\"].apply(lower_case)"
   ]
  },
  {
   "cell_type": "code",
   "execution_count": 10,
   "id": "d86cd82c",
   "metadata": {},
   "outputs": [
    {
     "data": {
      "text/html": [
       "<div>\n",
       "<style scoped>\n",
       "    .dataframe tbody tr th:only-of-type {\n",
       "        vertical-align: middle;\n",
       "    }\n",
       "\n",
       "    .dataframe tbody tr th {\n",
       "        vertical-align: top;\n",
       "    }\n",
       "\n",
       "    .dataframe thead th {\n",
       "        text-align: right;\n",
       "    }\n",
       "</style>\n",
       "<table border=\"1\" class=\"dataframe\">\n",
       "  <thead>\n",
       "    <tr style=\"text-align: right;\">\n",
       "      <th></th>\n",
       "      <th>user_name</th>\n",
       "      <th>user_created</th>\n",
       "      <th>user_followers</th>\n",
       "      <th>user_friends</th>\n",
       "      <th>user_favourites</th>\n",
       "      <th>user_verified</th>\n",
       "      <th>date</th>\n",
       "      <th>hashtags</th>\n",
       "      <th>text</th>\n",
       "      <th>clean_tweet</th>\n",
       "    </tr>\n",
       "  </thead>\n",
       "  <tbody>\n",
       "    <tr>\n",
       "      <th>0</th>\n",
       "      <td>DeSota Wilson</td>\n",
       "      <td>2009-04-26 20:05:09</td>\n",
       "      <td>8534.0</td>\n",
       "      <td>7605</td>\n",
       "      <td>4838</td>\n",
       "      <td>False</td>\n",
       "      <td>2021-02-10 23:59:04</td>\n",
       "      <td>['bitcoin']</td>\n",
       "      <td>Blue Ridge Bank shares halted by NYSE after #b...</td>\n",
       "      <td>blue ridge bank shares halted by nyse after bi...</td>\n",
       "    </tr>\n",
       "    <tr>\n",
       "      <th>1</th>\n",
       "      <td>CryptoND</td>\n",
       "      <td>2019-10-17 20:12:10</td>\n",
       "      <td>6769.0</td>\n",
       "      <td>1532</td>\n",
       "      <td>25483</td>\n",
       "      <td>False</td>\n",
       "      <td>2021-02-10 23:58:48</td>\n",
       "      <td>['Thursday', 'Btc', 'wallet', 'security']</td>\n",
       "      <td>😎 Today, that's this #Thursday, we will do a \"...</td>\n",
       "      <td>😎 today, that's this thursday, we will do a \"🎬...</td>\n",
       "    </tr>\n",
       "    <tr>\n",
       "      <th>2</th>\n",
       "      <td>Tdlmatias</td>\n",
       "      <td>2014-11-10 10:50:37</td>\n",
       "      <td>128.0</td>\n",
       "      <td>332</td>\n",
       "      <td>924</td>\n",
       "      <td>False</td>\n",
       "      <td>2021-02-10 23:54:48</td>\n",
       "      <td>NaN</td>\n",
       "      <td>Guys evening, I have read this article about B...</td>\n",
       "      <td>guys evening, i have read this article about b...</td>\n",
       "    </tr>\n",
       "  </tbody>\n",
       "</table>\n",
       "</div>"
      ],
      "text/plain": [
       "       user_name         user_created user_followers user_friends  \\\n",
       "0  DeSota Wilson  2009-04-26 20:05:09         8534.0         7605   \n",
       "1       CryptoND  2019-10-17 20:12:10         6769.0         1532   \n",
       "2      Tdlmatias  2014-11-10 10:50:37          128.0          332   \n",
       "\n",
       "  user_favourites user_verified                 date  \\\n",
       "0            4838         False  2021-02-10 23:59:04   \n",
       "1           25483         False  2021-02-10 23:58:48   \n",
       "2             924         False  2021-02-10 23:54:48   \n",
       "\n",
       "                                    hashtags  \\\n",
       "0                                ['bitcoin']   \n",
       "1  ['Thursday', 'Btc', 'wallet', 'security']   \n",
       "2                                        NaN   \n",
       "\n",
       "                                                text  \\\n",
       "0  Blue Ridge Bank shares halted by NYSE after #b...   \n",
       "1  😎 Today, that's this #Thursday, we will do a \"...   \n",
       "2  Guys evening, I have read this article about B...   \n",
       "\n",
       "                                         clean_tweet  \n",
       "0  blue ridge bank shares halted by nyse after bi...  \n",
       "1  😎 today, that's this thursday, we will do a \"🎬...  \n",
       "2  guys evening, i have read this article about b...  "
      ]
     },
     "execution_count": 10,
     "metadata": {},
     "output_type": "execute_result"
    }
   ],
   "source": [
    "df_1.head(3)"
   ]
  },
  {
   "cell_type": "code",
   "execution_count": 11,
   "id": "9f6fde75",
   "metadata": {},
   "outputs": [
    {
     "name": "stdout",
     "output_type": "stream",
     "text": [
      "<class 'pandas.core.frame.DataFrame'>\n",
      "Int64Index: 4584416 entries, 0 to 57411156\n",
      "Data columns (total 10 columns):\n",
      " #   Column           Dtype \n",
      "---  ------           ----- \n",
      " 0   user_name        object\n",
      " 1   user_created     object\n",
      " 2   user_followers   object\n",
      " 3   user_friends     object\n",
      " 4   user_favourites  object\n",
      " 5   user_verified    object\n",
      " 6   date             object\n",
      " 7   hashtags         object\n",
      " 8   text             object\n",
      " 9   clean_tweet      object\n",
      "dtypes: object(10)\n",
      "memory usage: 384.7+ MB\n"
     ]
    }
   ],
   "source": [
    "df_1.info()"
   ]
  },
  {
   "cell_type": "code",
   "execution_count": 12,
   "id": "d66a1fc6",
   "metadata": {},
   "outputs": [
    {
     "name": "stderr",
     "output_type": "stream",
     "text": [
      "/var/folders/v2/_1kj2jc57736h6nlnncs10080000gn/T/ipykernel_3640/1469608167.py:1: SettingWithCopyWarning: \n",
      "A value is trying to be set on a copy of a slice from a DataFrame.\n",
      "Try using .loc[row_indexer,col_indexer] = value instead\n",
      "\n",
      "See the caveats in the documentation: https://pandas.pydata.org/pandas-docs/stable/user_guide/indexing.html#returning-a-view-versus-a-copy\n",
      "  df_1[\"clean_text\"] = df_1[\"clean_tweet\"].astype(str).apply(lambda x: x.encode('ascii', 'ignore').decode('ascii'))\n"
     ]
    }
   ],
   "source": [
    "df_1[\"clean_text\"] = df_1[\"clean_tweet\"].astype(str).apply(lambda x: x.encode('ascii', 'ignore').decode('ascii'))"
   ]
  },
  {
   "cell_type": "code",
   "execution_count": 13,
   "id": "26bc0f91",
   "metadata": {},
   "outputs": [
    {
     "data": {
      "image/png": "[encoded data removed]",
      "text/plain": [
       "<Figure size 1700x1200 with 1 Axes>"
      ]
     },
     "metadata": {},
     "output_type": "display_data"
    }
   ],
   "source": [
    "text = df_1[\"clean_text\"].to_string()\n",
    "wordcloud = WordCloud(relative_scaling=0.5 , background_color='white',stopwords=set(stopwords.words('english'))).generate(text)\n",
    "plt.figure(figsize=(17,12))\n",
    "plt.imshow(wordcloud)\n",
    "plt.axis(\"off\")\n",
    "plt.show()"
   ]
  },
  {
   "cell_type": "code",
   "execution_count": 14,
   "id": "9544aa4d",
   "metadata": {},
   "outputs": [],
   "source": [
    "def keep_date_rows(df, columns):\n",
    "    \"\"\"\n",
    "    Keep rows with date format\n",
    "    \"\"\"\n",
    "    for col in columns:\n",
    "        df[col] = pd.to_datetime(df[col], errors='coerce')\n",
    "        df = df.dropna(subset=[col])\n",
    "    return df "
   ]
  },
  {
   "cell_type": "code",
   "execution_count": 15,
   "id": "9f7553a6",
   "metadata": {},
   "outputs": [
    {
     "name": "stderr",
     "output_type": "stream",
     "text": [
      "/var/folders/v2/_1kj2jc57736h6nlnncs10080000gn/T/ipykernel_3640/4291540081.py:6: SettingWithCopyWarning: \n",
      "A value is trying to be set on a copy of a slice from a DataFrame.\n",
      "Try using .loc[row_indexer,col_indexer] = value instead\n",
      "\n",
      "See the caveats in the documentation: https://pandas.pydata.org/pandas-docs/stable/user_guide/indexing.html#returning-a-view-versus-a-copy\n",
      "  df[col] = pd.to_datetime(df[col], errors='coerce')\n"
     ]
    }
   ],
   "source": [
    "df_2 = keep_date_rows(df_1, [\"user_created\", \"date\"])"
   ]
  },
  {
   "cell_type": "code",
   "execution_count": 16,
   "id": "245e5dda",
   "metadata": {},
   "outputs": [
    {
     "name": "stdout",
     "output_type": "stream",
     "text": [
      "<class 'pandas.core.frame.DataFrame'>\n",
      "Int64Index: 4584416 entries, 0 to 57411156\n",
      "Data columns (total 11 columns):\n",
      " #   Column           Dtype         \n",
      "---  ------           -----         \n",
      " 0   user_name        object        \n",
      " 1   user_created     datetime64[ns]\n",
      " 2   user_followers   object        \n",
      " 3   user_friends     object        \n",
      " 4   user_favourites  object        \n",
      " 5   user_verified    object        \n",
      " 6   date             datetime64[ns]\n",
      " 7   hashtags         object        \n",
      " 8   text             object        \n",
      " 9   clean_tweet      object        \n",
      " 10  clean_text       object        \n",
      "dtypes: datetime64[ns](2), object(9)\n",
      "memory usage: 419.7+ MB\n"
     ]
    }
   ],
   "source": [
    "df_2.info()"
   ]
  },
  {
   "cell_type": "code",
   "execution_count": 17,
   "id": "429f32b7",
   "metadata": {},
   "outputs": [],
   "source": [
    "def keep_numeric_rows(df, columns):\n",
    "    \"\"\"\n",
    "    Keep rows with date format\n",
    "    \"\"\"\n",
    "    for col in columns:\n",
    "        df[col] = pd.to_numeric(df[col], errors='coerce')\n",
    "        df = df.dropna(subset=[col])\n",
    "    return df "
   ]
  },
  {
   "cell_type": "code",
   "execution_count": 18,
   "id": "1a467601",
   "metadata": {},
   "outputs": [],
   "source": [
    "df_3 = keep_numeric_rows(df_2, [\"user_followers\", \"user_friends\", \"user_favourites\"])"
   ]
  },
  {
   "cell_type": "code",
   "execution_count": 19,
   "id": "855d9335",
   "metadata": {},
   "outputs": [
    {
     "name": "stdout",
     "output_type": "stream",
     "text": [
      "<class 'pandas.core.frame.DataFrame'>\n",
      "Int64Index: 4584416 entries, 0 to 57411156\n",
      "Data columns (total 11 columns):\n",
      " #   Column           Dtype         \n",
      "---  ------           -----         \n",
      " 0   user_name        object        \n",
      " 1   user_created     datetime64[ns]\n",
      " 2   user_followers   float64       \n",
      " 3   user_friends     float64       \n",
      " 4   user_favourites  float64       \n",
      " 5   user_verified    object        \n",
      " 6   date             datetime64[ns]\n",
      " 7   hashtags         object        \n",
      " 8   text             object        \n",
      " 9   clean_tweet      object        \n",
      " 10  clean_text       object        \n",
      "dtypes: datetime64[ns](2), float64(3), object(6)\n",
      "memory usage: 419.7+ MB\n"
     ]
    }
   ],
   "source": [
    "df_3.info()"
   ]
  },
  {
   "cell_type": "code",
   "execution_count": 20,
   "id": "1451913f",
   "metadata": {},
   "outputs": [
    {
     "data": {
      "text/plain": [
       "False    3384479\n",
       "False    1167783\n",
       "True       24670\n",
       "True        7484\n",
       "Name: user_verified, dtype: int64"
      ]
     },
     "execution_count": 20,
     "metadata": {},
     "output_type": "execute_result"
    }
   ],
   "source": [
    "df_3.user_verified.value_counts()"
   ]
  },
  {
   "cell_type": "code",
   "execution_count": 21,
   "id": "d7b55579",
   "metadata": {},
   "outputs": [],
   "source": [
    "final_features = [\"user_name\", \"user_created\",\"user_followers\", \"user_friends\", \"user_favourites\", \"user_verified\", \"clean_text\"]\n",
    "final_df = df_3[final_features]"
   ]
  },
  {
   "cell_type": "code",
   "execution_count": 22,
   "id": "c1214110",
   "metadata": {},
   "outputs": [
    {
     "data": {
      "text/html": [
       "<div>\n",
       "<style scoped>\n",
       "    .dataframe tbody tr th:only-of-type {\n",
       "        vertical-align: middle;\n",
       "    }\n",
       "\n",
       "    .dataframe tbody tr th {\n",
       "        vertical-align: top;\n",
       "    }\n",
       "\n",
       "    .dataframe thead th {\n",
       "        text-align: right;\n",
       "    }\n",
       "</style>\n",
       "<table border=\"1\" class=\"dataframe\">\n",
       "  <thead>\n",
       "    <tr style=\"text-align: right;\">\n",
       "      <th></th>\n",
       "      <th>user_name</th>\n",
       "      <th>user_created</th>\n",
       "      <th>user_followers</th>\n",
       "      <th>user_friends</th>\n",
       "      <th>user_favourites</th>\n",
       "      <th>user_verified</th>\n",
       "      <th>clean_text</th>\n",
       "    </tr>\n",
       "  </thead>\n",
       "  <tbody>\n",
       "    <tr>\n",
       "      <th>0</th>\n",
       "      <td>DeSota Wilson</td>\n",
       "      <td>2009-04-26 20:05:09</td>\n",
       "      <td>8534.0</td>\n",
       "      <td>7605.0</td>\n",
       "      <td>4838.0</td>\n",
       "      <td>False</td>\n",
       "      <td>blue ridge bank shares halted by nyse after bi...</td>\n",
       "    </tr>\n",
       "    <tr>\n",
       "      <th>1</th>\n",
       "      <td>CryptoND</td>\n",
       "      <td>2019-10-17 20:12:10</td>\n",
       "      <td>6769.0</td>\n",
       "      <td>1532.0</td>\n",
       "      <td>25483.0</td>\n",
       "      <td>False</td>\n",
       "      <td>today, that's this thursday, we will do a \" t...</td>\n",
       "    </tr>\n",
       "    <tr>\n",
       "      <th>2</th>\n",
       "      <td>Tdlmatias</td>\n",
       "      <td>2014-11-10 10:50:37</td>\n",
       "      <td>128.0</td>\n",
       "      <td>332.0</td>\n",
       "      <td>924.0</td>\n",
       "      <td>False</td>\n",
       "      <td>guys evening, i have read this article about b...</td>\n",
       "    </tr>\n",
       "  </tbody>\n",
       "</table>\n",
       "</div>"
      ],
      "text/plain": [
       "       user_name        user_created  user_followers  user_friends  \\\n",
       "0  DeSota Wilson 2009-04-26 20:05:09          8534.0        7605.0   \n",
       "1       CryptoND 2019-10-17 20:12:10          6769.0        1532.0   \n",
       "2      Tdlmatias 2014-11-10 10:50:37           128.0         332.0   \n",
       "\n",
       "   user_favourites user_verified  \\\n",
       "0           4838.0         False   \n",
       "1          25483.0         False   \n",
       "2            924.0         False   \n",
       "\n",
       "                                          clean_text  \n",
       "0  blue ridge bank shares halted by nyse after bi...  \n",
       "1   today, that's this thursday, we will do a \" t...  \n",
       "2  guys evening, i have read this article about b...  "
      ]
     },
     "execution_count": 22,
     "metadata": {},
     "output_type": "execute_result"
    }
   ],
   "source": [
    "final_df.head(3)"
   ]
  },
  {
   "cell_type": "code",
   "execution_count": 23,
   "id": "2d5b23b3",
   "metadata": {},
   "outputs": [],
   "source": [
    "final_df.to_csv('/Users/anouaroussalah/Desktop/3A/SM10/Deep Learning/Project/tweets_processed.csv', index=False)"
   ]
  },
  {
   "cell_type": "code",
   "execution_count": null,
   "id": "6e5da1c4",
   "metadata": {},
   "outputs": [],
   "source": []
  }
 ],
 "metadata": {
  "kernelspec": {
   "display_name": "Python 3 (ipykernel)",
   "language": "python",
   "name": "python3"
  },
  "language_info": {
   "codemirror_mode": {
    "name": "ipython",
    "version": 3
   },
   "file_extension": ".py",
   "mimetype": "text/x-python",
   "name": "python",
   "nbconvert_exporter": "python",
   "pygments_lexer": "ipython3",
   "version": "3.9.13"
  }
 },
 "nbformat": 4,
 "nbformat_minor": 5
}
